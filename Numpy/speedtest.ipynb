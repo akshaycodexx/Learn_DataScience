{
 "cells": [
  {
   "cell_type": "code",
   "execution_count": 15,
   "id": "c20623a4-f064-41f7-b8b4-2dd772c15c78",
   "metadata": {},
   "outputs": [
    {
     "name": "stdout",
     "output_type": "stream",
     "text": [
      "0.16501450538635254\n"
     ]
    }
   ],
   "source": [
    "# using pythin list\n",
    "import numpy as np\n",
    "import time\n",
    "size=1_000_000;\n",
    "l1=list(range(size))\n",
    "l2=list(range(size))\n",
    "start=time.time()\n",
    "add=[x+y for x,y in zip(l1,l2)]\n",
    "end=time.time()\n",
    "\n",
    "print(end-start)"
   ]
  },
  {
   "cell_type": "code",
   "execution_count": 19,
   "id": "9f335070-bda0-4337-92c8-0adc87d53def",
   "metadata": {},
   "outputs": [
    {
     "name": "stdout",
     "output_type": "stream",
     "text": [
      "[      0       2       4 ... 1999994 1999996 1999998]\n",
      "0.007134437561035156\n"
     ]
    }
   ],
   "source": [
    "# using numpy array\n",
    "import numpy as np\n",
    "import time\n",
    "size=1_000_000;\n",
    "l1=np.array(list(range(size)))\n",
    "l2=np.array(list(range(size)))\n",
    "start=time.time()\n",
    "add=l1+l2\n",
    "print(add)\n",
    "end=time.time()\n",
    "\n",
    "print(end-start)"
   ]
  },
  {
   "cell_type": "code",
   "execution_count": 5,
   "id": "d95ce567-5e84-49c1-b497-af75a8cebba9",
   "metadata": {},
   "outputs": [],
   "source": [
    "l1=[1,2,4]"
   ]
  },
  {
   "cell_type": "code",
   "execution_count": 7,
   "id": "1c96f2c4-5880-4f44-afb5-a74cd1be3fec",
   "metadata": {},
   "outputs": [],
   "source": [
    "l2=[6,7,8]"
   ]
  },
  {
   "cell_type": "code",
   "execution_count": 9,
   "id": "bcdb0631-47d2-42f5-b768-6aa34074b742",
   "metadata": {},
   "outputs": [
    {
     "data": {
      "text/plain": [
       "[(1, 6), (2, 7), (4, 8)]"
      ]
     },
     "execution_count": 9,
     "metadata": {},
     "output_type": "execute_result"
    }
   ],
   "source": [
    "list(zip(l1,l2))"
   ]
  },
  {
   "cell_type": "code",
   "execution_count": 21,
   "id": "b06b0be8-1de2-4ae5-a19d-570b655c68a5",
   "metadata": {},
   "outputs": [
    {
     "data": {
      "text/plain": [
       "array([2, 4, 5, 6, 7, 8, 9, 1])"
      ]
     },
     "execution_count": 21,
     "metadata": {},
     "output_type": "execute_result"
    }
   ],
   "source": [
    "np.array([2,4,5,6,7,8,9,1])"
   ]
  },
  {
   "cell_type": "code",
   "execution_count": 25,
   "id": "0351bbac-e08f-4e62-a57f-336698bc1a24",
   "metadata": {},
   "outputs": [],
   "source": [
    "arr=np.array([[1,2,3],[3,4,5]])"
   ]
  },
  {
   "cell_type": "code",
   "execution_count": 27,
   "id": "4eb8926c-3297-4d9e-9861-69ce8f5e467c",
   "metadata": {},
   "outputs": [
    {
     "data": {
      "text/plain": [
       "numpy.ndarray"
      ]
     },
     "execution_count": 27,
     "metadata": {},
     "output_type": "execute_result"
    }
   ],
   "source": [
    "type(arr)"
   ]
  },
  {
   "cell_type": "code",
   "execution_count": 29,
   "id": "cf056534-40d1-4da6-9680-6f220e545569",
   "metadata": {},
   "outputs": [
    {
     "data": {
      "text/plain": [
       "(2, 3)"
      ]
     },
     "execution_count": 29,
     "metadata": {},
     "output_type": "execute_result"
    }
   ],
   "source": [
    "arr.shape"
   ]
  },
  {
   "cell_type": "code",
   "execution_count": 37,
   "id": "2cd10ec7-b927-4aab-88cf-3401596944c2",
   "metadata": {},
   "outputs": [
    {
     "name": "stdout",
     "output_type": "stream",
     "text": [
      "List Comprehension Result: [4, 4, 4, 4, 4]\n",
      "NumPy Result: [4 4 4 4 4]\n",
      "Time for list comprehension: 0.0 seconds\n",
      "Time for NumPy operation: 0.0009996891021728516 seconds\n"
     ]
    }
   ],
   "source": [
    "op=[2,2,2,2,2]\n",
    "\n",
    "# For list comprehension in pure Python\n",
    "timeStart1 = time.time()\n",
    "list_sequence = [x**2 for x in op]\n",
    "print(\"List Comprehension Result:\", list_sequence)\n",
    "timeEnd1 = time.time()\n",
    "\n",
    "#for list compreantion of Numpy\n",
    "np_op=np.array(op) # first we want to make python list to Array of Numpy\n",
    "timeStart2 = time.time()\n",
    "numpy_sequence = np_op ** 2\n",
    "print(\"NumPy Result:\", numpy_sequence)\n",
    "timeEnd2 = time.time()\n",
    "\n",
    "# calculate time for each :\n",
    "# Optional: Print time taken\n",
    "print(\"Time for list comprehension:\", timeEnd1 - timeStart1, \"seconds\")\n",
    "print(\"Time for NumPy operation:\", timeEnd2 - timeStart2, \"seconds\")\n",
    "\n",
    "\n"
   ]
  },
  {
   "cell_type": "markdown",
   "id": "fa240c3b-6d91-4729-91bf-72ec2f3ff890",
   "metadata": {},
   "source": [
    "# HOMEWORK"
   ]
  },
  {
   "cell_type": "markdown",
   "id": "b6610cd6-1570-438d-801c-e14ee5db5c1e",
   "metadata": {},
   "source": [
    "Create a NumPy array with values from 10 to 100 and print its shape."
   ]
  },
  {
   "cell_type": "code",
   "execution_count": 52,
   "id": "a5920dd4-7541-499d-aaed-88651364f5ea",
   "metadata": {},
   "outputs": [
    {
     "name": "stdout",
     "output_type": "stream",
     "text": [
      "Array: [10 11 12 13 14 15 16 17 18 19 20 21 22 23 24 25 26 27 28 29 30 31 32 33\n",
      " 34 35 36 37 38 39 40 41 42 43 44 45 46 47 48 49 50 51 52 53 54 55 56 57\n",
      " 58 59 60 61 62 63 64 65 66 67 68 69 70 71 72 73 74 75 76 77 78 79 80 81\n",
      " 82 83 84 85 86 87 88 89 90 91 92 93 94 95 96 97 98 99]\n",
      "Shape: (90,)\n"
     ]
    }
   ],
   "source": [
    "arr=np.arange(10,100)# 'arange' this is used to make an array of given size\n",
    "\n",
    "print(\"Array:\",arr)\n",
    "print(\"Shape:\",arr.shape)"
   ]
  },
  {
   "cell_type": "code",
   "execution_count": null,
   "id": "d499e885-ca1e-4da2-b96c-abed359e65c5",
   "metadata": {},
   "outputs": [],
   "source": []
  },
  {
   "cell_type": "markdown",
   "id": "20f4ff3e-cc20-41e1-9df6-a2efb7a607a7",
   "metadata": {},
   "source": [
    "Compare the time taken to multiply two Python lists vs. two NumPy arrays."
   ]
  },
  {
   "cell_type": "code",
   "execution_count": 59,
   "id": "fe164a86-c6ae-41e0-9798-b0210988f3a3",
   "metadata": {},
   "outputs": [
    {
     "name": "stdout",
     "output_type": "stream",
     "text": [
      "The Time Taken Using Python list : 0.09599924087524414 Seconds\n",
      "The Time Taken Using numpy list : 0.0020003318786621094 Seconds\n"
     ]
    }
   ],
   "source": [
    "#for list comprention\n",
    "\n",
    "size = 1_000_000\n",
    "l1 = list(range(size))\n",
    "l2 = list(range(size))\n",
    "starting_time_list=time.time()\n",
    "list_multipliaction=[a*b for a,b in zip(l1,l2)]\n",
    "ending_time_list=time.time()\n",
    "\n",
    "# for  numpy\n",
    "array1=np.array(l1)\n",
    "array2=np.array(l2)\n",
    "starting_time_numpy=time.time()\n",
    "array_result=array1* array2\n",
    "ending_time_numpy=time.time()\n",
    "\n",
    "#calculate times\n",
    "print(f\"The Time Taken Using Python list : {ending_time_list-starting_time_list} Seconds\")\n",
    "print(f\"The Time Taken Using numpy list : {ending_time_numpy-starting_time_numpy} Seconds\")\n",
    "\n"
   ]
  },
  {
   "cell_type": "code",
   "execution_count": null,
   "id": "e87ff12f-e574-4e4c-9a18-78fefbbbb8e9",
   "metadata": {},
   "outputs": [],
   "source": []
  },
  {
   "cell_type": "markdown",
   "id": "0e1e53b3-2baf-4865-a745-9e705f821a36",
   "metadata": {},
   "source": [
    "Find the memory size of a NumPy array with 1 million elements."
   ]
  },
  {
   "cell_type": "code",
   "execution_count": 72,
   "id": "e6616636-00bf-4f03-8040-9aeee2370ef5",
   "metadata": {},
   "outputs": [
    {
     "name": "stdout",
     "output_type": "stream",
     "text": [
      "Memory size in kilobytes : 3906.25 KB\n",
      "Memory size in megabytes : 3.8 MB\n"
     ]
    }
   ],
   "source": [
    "import numpy as np\n",
    "\n",
    "# create an array of 1 million sizw\n",
    "array=np.arange(1_000_000)\n",
    "\n",
    "#get memory size\n",
    "memory_size=array.nbytes\n",
    "\n",
    "#convert to kilobite and megabite \n",
    "memory_kb=memory_size/1024\n",
    "memory_mb=memory_kb/1024\n",
    "\n",
    "print(f\"Memory size in kilobytes : {memory_kb:.2f} KB\")\n",
    "print(f\"Memory size in megabytes : {memory_mb:.1f} MB\")"
   ]
  },
  {
   "cell_type": "code",
   "execution_count": null,
   "id": "8aeb6420-3464-47b3-9234-2d2770d58d78",
   "metadata": {},
   "outputs": [],
   "source": []
  },
  {
   "cell_type": "code",
   "execution_count": null,
   "id": "c50e2b44-b27e-4f4b-9442-975599fc9c09",
   "metadata": {},
   "outputs": [],
   "source": []
  },
  {
   "cell_type": "code",
   "execution_count": null,
   "id": "329fb252-e286-47b2-96a2-7c47fe05cca4",
   "metadata": {},
   "outputs": [],
   "source": []
  },
  {
   "cell_type": "markdown",
   "id": "f604445e-4877-4921-80fb-219cad8f484f",
   "metadata": {},
   "source": [
    "How to Create An array in Numpy"
   ]
  },
  {
   "cell_type": "code",
   "execution_count": 78,
   "id": "ef6eb436-95f0-44fc-b0b7-e6c4291396fb",
   "metadata": {},
   "outputs": [
    {
     "name": "stdout",
     "output_type": "stream",
     "text": [
      "[1 2 3 4]\n"
     ]
    }
   ],
   "source": [
    "import numpy as np\n",
    "array=np.array([1,2,3,4])\n",
    "print(array)"
   ]
  },
  {
   "cell_type": "code",
   "execution_count": null,
   "id": "1b545713-6be9-4595-9004-e96a9a544494",
   "metadata": {},
   "outputs": [],
   "source": []
  }
 ],
 "metadata": {
  "kernelspec": {
   "display_name": "Python [conda env:base] *",
   "language": "python",
   "name": "conda-base-py"
  },
  "language_info": {
   "codemirror_mode": {
    "name": "ipython",
    "version": 3
   },
   "file_extension": ".py",
   "mimetype": "text/x-python",
   "name": "python",
   "nbconvert_exporter": "python",
   "pygments_lexer": "ipython3",
   "version": "3.12.7"
  }
 },
 "nbformat": 4,
 "nbformat_minor": 5
}
