{
 "cells": [
  {
   "cell_type": "markdown",
   "id": "59242b1e-04d5-4992-bd0e-d0ee1d058d59",
   "metadata": {},
   "source": [
    "## Python Set and Set Method"
   ]
  },
  {
   "cell_type": "code",
   "execution_count": 2,
   "id": "8c0d0821-f434-4f65-be00-ac76d4f794eb",
   "metadata": {},
   "outputs": [],
   "source": [
    "a={}"
   ]
  },
  {
   "cell_type": "code",
   "execution_count": 4,
   "id": "7006dc27-c581-4e3d-942d-4a9a1cf72972",
   "metadata": {},
   "outputs": [
    {
     "data": {
      "text/plain": [
       "dict"
      ]
     },
     "execution_count": 4,
     "metadata": {},
     "output_type": "execute_result"
    }
   ],
   "source": [
    "type(a)"
   ]
  },
  {
   "cell_type": "code",
   "execution_count": 6,
   "id": "795f62d6-691e-449b-874d-c577c8bdf801",
   "metadata": {},
   "outputs": [],
   "source": [
    "b=set()"
   ]
  },
  {
   "cell_type": "code",
   "execution_count": 8,
   "id": "39e118ee-2836-41f0-ba83-b03623e25b5d",
   "metadata": {},
   "outputs": [
    {
     "data": {
      "text/plain": [
       "set"
      ]
     },
     "execution_count": 8,
     "metadata": {},
     "output_type": "execute_result"
    }
   ],
   "source": [
    "type(b)"
   ]
  },
  {
   "cell_type": "markdown",
   "id": "25f5d774-b9d9-4517-9197-7530c66c4343",
   "metadata": {},
   "source": [
    "# sets ke andar hamlog alag alag datatype dal sakte hai "
   ]
  },
  {
   "cell_type": "code",
   "execution_count": 13,
   "id": "566df1a9-c275-4d3a-92d8-b21dfca03879",
   "metadata": {},
   "outputs": [],
   "source": [
    "Unique_Number=set([1,2,4,5,4,3,4])  # A set is No repeated Elements"
   ]
  },
  {
   "cell_type": "code",
   "execution_count": 15,
   "id": "2fc8be45-7a71-4257-9ee4-aed7b0ee7d5e",
   "metadata": {},
   "outputs": [
    {
     "name": "stdout",
     "output_type": "stream",
     "text": [
      "{1, 2, 3, 4, 5}\n"
     ]
    }
   ],
   "source": [
    "print(Unique_Number)"
   ]
  },
  {
   "cell_type": "code",
   "execution_count": 19,
   "id": "a4c1a173-b7bb-4a10-8c44-b04ab8d0b4da",
   "metadata": {},
   "outputs": [],
   "source": [
    "Unique_Number.update([23,34,3])"
   ]
  },
  {
   "cell_type": "code",
   "execution_count": 21,
   "id": "933fe3a8-f3a9-44ec-b8b8-9054696c22d7",
   "metadata": {},
   "outputs": [
    {
     "name": "stdout",
     "output_type": "stream",
     "text": [
      "{1, 2, 3, 4, 5, 34, 23}\n"
     ]
    }
   ],
   "source": [
    "print(Unique_Number)"
   ]
  },
  {
   "cell_type": "code",
   "execution_count": 23,
   "id": "83537c51-70c2-41c7-936d-d16ac628d0ae",
   "metadata": {},
   "outputs": [],
   "source": [
    "set1={1,2,3,4}\n",
    "set2={4,5,6,2}"
   ]
  },
  {
   "cell_type": "code",
   "execution_count": 25,
   "id": "20cff694-d24b-4cf8-b463-af57c2be8c31",
   "metadata": {},
   "outputs": [
    {
     "data": {
      "text/plain": [
       "{1, 2, 3, 4, 5, 6}"
      ]
     },
     "execution_count": 25,
     "metadata": {},
     "output_type": "execute_result"
    }
   ],
   "source": [
    "set1.union(set2)"
   ]
  },
  {
   "cell_type": "code",
   "execution_count": 27,
   "id": "db29979d-fe46-4d5e-a902-59459a96da02",
   "metadata": {},
   "outputs": [
    {
     "data": {
      "text/plain": [
       "{2, 4}"
      ]
     },
     "execution_count": 27,
     "metadata": {},
     "output_type": "execute_result"
    }
   ],
   "source": [
    "set1.intersection(set2)"
   ]
  },
  {
   "cell_type": "markdown",
   "id": "e6c7e7fe-0949-453c-abda-1619552e4aad",
   "metadata": {},
   "source": [
    "# Dictionary\n"
   ]
  },
  {
   "cell_type": "code",
   "execution_count": 30,
   "id": "a1409d50-ab07-41f3-90dc-df0d83f0d87e",
   "metadata": {},
   "outputs": [],
   "source": [
    "student={\n",
    "    \"name\":\"Akshay\",\n",
    "    \"age\":23\n",
    "    \n",
    "}"
   ]
  },
  {
   "cell_type": "code",
   "execution_count": 32,
   "id": "e51d24fd-c6c7-4d55-8dc2-fe532faebb44",
   "metadata": {},
   "outputs": [
    {
     "data": {
      "text/plain": [
       "'Akshay'"
      ]
     },
     "execution_count": 32,
     "metadata": {},
     "output_type": "execute_result"
    }
   ],
   "source": [
    "student[\"name\"]"
   ]
  },
  {
   "cell_type": "code",
   "execution_count": null,
   "id": "11b8e837-b93a-4c24-9095-8a45c6aef798",
   "metadata": {},
   "outputs": [],
   "source": []
  }
 ],
 "metadata": {
  "kernelspec": {
   "display_name": "Python [conda env:base] *",
   "language": "python",
   "name": "conda-base-py"
  },
  "language_info": {
   "codemirror_mode": {
    "name": "ipython",
    "version": 3
   },
   "file_extension": ".py",
   "mimetype": "text/x-python",
   "name": "python",
   "nbconvert_exporter": "python",
   "pygments_lexer": "ipython3",
   "version": "3.12.7"
  }
 },
 "nbformat": 4,
 "nbformat_minor": 5
}
