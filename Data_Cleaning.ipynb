{
 "cells": [
  {
   "cell_type": "markdown",
   "id": "7fa59a00-e535-4afc-bf33-68d94f3bc8e3",
   "metadata": {},
   "source": [
    "## In The Part Of Coders Of Delhi We Play With Missing And Duplicate Data"
   ]
  },
  {
   "cell_type": "code",
   "execution_count": 52,
   "id": "e0227ce7-3d3c-402b-91be-c7f8ae3d7883",
   "metadata": {},
   "outputs": [
    {
     "name": "stdout",
     "output_type": "stream",
     "text": [
      "Data has been cleaned successfully! 🙂\n"
     ]
    }
   ],
   "source": [
    "import json\n",
    "\n",
    "def clean_data(data):\n",
    "    # remove users with missing names\n",
    "    data['users'] = [user for user in data[\"users\"] if user[\"name\"].strip()]\n",
    "    #remove duplicate friends\n",
    "    for user in data[\"users\"]:\n",
    "        user['friends']=list(set(user['friends']))\n",
    "    # remove inActive usser\n",
    "    data['users']=[user for user in data['users'] if user['friends'] or user['liked_pages']]\n",
    "    return data\n",
    "\n",
    "        \n",
    "\n",
    "# Load the data\n",
    "with open(\"data2.json\") as f:\n",
    "    data = json.load(f)\n",
    "\n",
    "# Clean the data\n",
    "data = clean_data(data)\n",
    "\n",
    "# Save the cleaned data\n",
    "with open(\"cleaned_data2.json\", \"w\") as f:\n",
    "    json.dump(data, f, indent=4)\n",
    "\n",
    "print(\"Data has been cleaned successfully! 🙂\")\n",
    "\n"
   ]
  },
  {
   "cell_type": "code",
   "execution_count": null,
   "id": "43b81703-95bb-42b5-8941-15b425d6aaba",
   "metadata": {},
   "outputs": [],
   "source": []
  }
 ],
 "metadata": {
  "kernelspec": {
   "display_name": "Python [conda env:base] *",
   "language": "python",
   "name": "conda-base-py"
  },
  "language_info": {
   "codemirror_mode": {
    "name": "ipython",
    "version": 3
   },
   "file_extension": ".py",
   "mimetype": "text/x-python",
   "name": "python",
   "nbconvert_exporter": "python",
   "pygments_lexer": "ipython3",
   "version": "3.12.7"
  }
 },
 "nbformat": 4,
 "nbformat_minor": 5
}
