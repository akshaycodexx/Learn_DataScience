{
 "cells": [
  {
   "cell_type": "markdown",
   "id": "b4cff628-0ea3-4431-ba73-8f18e35224ff",
   "metadata": {},
   "source": [
    "## Operator Precedence\n"
   ]
  },
  {
   "cell_type": "markdown",
   "id": "11971f19-a494-485f-a2d9-4de0d6ccf8c6",
   "metadata": {},
   "source": [
    "# BoadMass Rule:"
   ]
  },
  {
   "cell_type": "code",
   "execution_count": 13,
   "id": "c689a409-d313-41bf-9e8b-07ad2e0ec6c0",
   "metadata": {},
   "outputs": [],
   "source": [
    "result=2*10+5/2\n"
   ]
  },
  {
   "cell_type": "code",
   "execution_count": 15,
   "id": "5722b7b4-6477-4103-9917-c0e12e0e3896",
   "metadata": {},
   "outputs": [
    {
     "name": "stdout",
     "output_type": "stream",
     "text": [
      "22.5\n"
     ]
    }
   ],
   "source": [
    "print(result)"
   ]
  },
  {
   "cell_type": "code",
   "execution_count": null,
   "id": "32e5a2d7-c359-41b8-a782-7b046661399c",
   "metadata": {},
   "outputs": [],
   "source": []
  }
 ],
 "metadata": {
  "kernelspec": {
   "display_name": "Python [conda env:base] *",
   "language": "python",
   "name": "conda-base-py"
  },
  "language_info": {
   "codemirror_mode": {
    "name": "ipython",
    "version": 3
   },
   "file_extension": ".py",
   "mimetype": "text/x-python",
   "name": "python",
   "nbconvert_exporter": "python",
   "pygments_lexer": "ipython3",
   "version": "3.12.7"
  }
 },
 "nbformat": 4,
 "nbformat_minor": 5
}
