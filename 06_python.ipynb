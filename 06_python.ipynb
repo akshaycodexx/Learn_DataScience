{
 "cells": [
  {
   "cell_type": "code",
   "execution_count": null,
   "id": "1a16d696-0463-4f11-a281-e650ce3e35da",
   "metadata": {},
   "outputs": [],
   "source": []
  },
  {
   "cell_type": "markdown",
   "id": "b27cc614-2dcf-4921-a1d7-e28a2888d9c9",
   "metadata": {},
   "source": [
    "## if_Else Statement"
   ]
  },
  {
   "cell_type": "code",
   "execution_count": 8,
   "id": "cec40a2d-fad8-4407-8a8a-99a7be3a62a6",
   "metadata": {},
   "outputs": [],
   "source": [
    "a=34"
   ]
  },
  {
   "cell_type": "code",
   "execution_count": 10,
   "id": "f8db433d-97f1-49ea-be12-69fe0cc17eda",
   "metadata": {},
   "outputs": [
    {
     "name": "stdout",
     "output_type": "stream",
     "text": [
      "Smaller\n"
     ]
    }
   ],
   "source": [
    "if(a>53):\n",
    "    print(\"Greater\")\n",
    "else:\n",
    "    print(\"Smaller\")"
   ]
  },
  {
   "cell_type": "markdown",
   "id": "b05394da-8853-4300-891d-669214e172e5",
   "metadata": {},
   "source": [
    "# Functions in Python\n"
   ]
  },
  {
   "cell_type": "code",
   "execution_count": 13,
   "id": "52334712-75ea-444c-b5cc-59d7e6df8d26",
   "metadata": {},
   "outputs": [],
   "source": [
    "def add(a,b):\n",
    "    return a+b;"
   ]
  },
  {
   "cell_type": "code",
   "execution_count": 15,
   "id": "f7502c0e-aff7-40a1-b3b4-b66cf025e64a",
   "metadata": {},
   "outputs": [
    {
     "name": "stdout",
     "output_type": "stream",
     "text": [
      "8\n"
     ]
    }
   ],
   "source": [
    "print(add(3,5))"
   ]
  },
  {
   "cell_type": "code",
   "execution_count": 17,
   "id": "02b84899-51cb-4966-b0ed-eda86648aded",
   "metadata": {},
   "outputs": [],
   "source": [
    "def greet():\n",
    "    print(\"Hellow, Good Morning!\")"
   ]
  },
  {
   "cell_type": "code",
   "execution_count": 19,
   "id": "85be7547-2c86-459d-b925-621d54b5df32",
   "metadata": {},
   "outputs": [
    {
     "name": "stdout",
     "output_type": "stream",
     "text": [
      "Hellow, Good Morning!\n"
     ]
    }
   ],
   "source": [
    "greet()"
   ]
  },
  {
   "cell_type": "markdown",
   "id": "26b239d1-ed79-48cf-938e-31f6d84688fd",
   "metadata": {},
   "source": [
    "# Match Case:"
   ]
  },
  {
   "cell_type": "code",
   "execution_count": 47,
   "id": "ee5c7896-42ab-4f39-b570-576c2ebb9d19",
   "metadata": {},
   "outputs": [],
   "source": [
    "Code=200"
   ]
  },
  {
   "cell_type": "code",
   "execution_count": 49,
   "id": "476d7b6f-dae6-4701-87b7-d20a3f515d69",
   "metadata": {},
   "outputs": [
    {
     "name": "stdout",
     "output_type": "stream",
     "text": [
      "Response ok\n",
      "End of the program\n"
     ]
    }
   ],
   "source": [
    "match Code :\n",
    "    case 200:\n",
    "        print(\"Response ok\")\n",
    "    case 400:\n",
    "        print(\"Bad Response\")\n",
    "    case 404:\n",
    "        print(\"Not Found\")\n",
    "print(\"End of the program\")"
   ]
  },
  {
   "cell_type": "code",
   "execution_count": null,
   "id": "0309ed7d-4594-4834-99ac-50fb907865f5",
   "metadata": {},
   "outputs": [],
   "source": []
  }
 ],
 "metadata": {
  "kernelspec": {
   "display_name": "Python [conda env:base] *",
   "language": "python",
   "name": "conda-base-py"
  },
  "language_info": {
   "codemirror_mode": {
    "name": "ipython",
    "version": 3
   },
   "file_extension": ".py",
   "mimetype": "text/x-python",
   "name": "python",
   "nbconvert_exporter": "python",
   "pygments_lexer": "ipython3",
   "version": "3.12.7"
  }
 },
 "nbformat": 4,
 "nbformat_minor": 5
}
