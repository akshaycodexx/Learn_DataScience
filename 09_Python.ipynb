{
 "cells": [
  {
   "cell_type": "code",
   "execution_count": 1,
   "id": "973e97d0-a6e4-46ae-a502-7b3f3a29e90f",
   "metadata": {},
   "outputs": [
    {
     "name": "stdout",
     "output_type": "stream",
     "text": [
      "4\n"
     ]
    }
   ],
   "source": [
    "student = {\"Akshay\", \"Aksah\", \"Saheb\", \"Anurag\"}\n",
    "count = 0\n",
    "\n",
    "while len(student) != 0:\n",
    "    student.pop()\n",
    "    count += 1\n",
    "\n",
    "print(count)\n"
   ]
  },
  {
   "cell_type": "markdown",
   "id": "e0c9a41d-5e96-4058-befe-186ec19cfbfd",
   "metadata": {},
   "source": [
    "## list"
   ]
  },
  {
   "cell_type": "code",
   "execution_count": 4,
   "id": "350be815-a7cf-4e87-8d7a-dfd73275a1d2",
   "metadata": {},
   "outputs": [],
   "source": [
    "l1={1,2,3}"
   ]
  },
  {
   "cell_type": "code",
   "execution_count": 8,
   "id": "9ec6fc45-f14c-4c71-b67b-de2bebeced1a",
   "metadata": {},
   "outputs": [
    {
     "data": {
      "text/plain": [
       "{1, 2, 3}"
      ]
     },
     "execution_count": 8,
     "metadata": {},
     "output_type": "execute_result"
    }
   ],
   "source": [
    "l1"
   ]
  },
  {
   "cell_type": "code",
   "execution_count": 14,
   "id": "47e31b37-589f-4d37-8f8d-1083c8de24c3",
   "metadata": {},
   "outputs": [],
   "source": [
    "l1.add(4)"
   ]
  },
  {
   "cell_type": "code",
   "execution_count": 16,
   "id": "5976ec86-0fe2-4e6d-824a-308c1dfea771",
   "metadata": {},
   "outputs": [
    {
     "data": {
      "text/plain": [
       "{1, 2, 3, 4}"
      ]
     },
     "execution_count": 16,
     "metadata": {},
     "output_type": "execute_result"
    }
   ],
   "source": [
    "l1\n"
   ]
  },
  {
   "cell_type": "code",
   "execution_count": 26,
   "id": "3851379b-50c3-4e84-a97e-a065c073c0bd",
   "metadata": {},
   "outputs": [],
   "source": [
    "l2=[5,6,7]"
   ]
  },
  {
   "cell_type": "code",
   "execution_count": 30,
   "id": "ddb4c425-af65-4241-8657-be20858b3488",
   "metadata": {},
   "outputs": [],
   "source": [
    "l3=[1,2,3,4]"
   ]
  },
  {
   "cell_type": "code",
   "execution_count": 32,
   "id": "8abee125-aff0-4ccd-a961-6c568c1c118b",
   "metadata": {},
   "outputs": [],
   "source": [
    "l3.extend(l2)"
   ]
  },
  {
   "cell_type": "code",
   "execution_count": 34,
   "id": "29edff2c-e226-4e13-9a17-fb6e364d4995",
   "metadata": {},
   "outputs": [
    {
     "name": "stdout",
     "output_type": "stream",
     "text": [
      "[1, 2, 3, 4, 5, 6, 7]\n"
     ]
    }
   ],
   "source": [
    "print(l3)"
   ]
  },
  {
   "cell_type": "code",
   "execution_count": null,
   "id": "98286156-5870-4bf9-abc8-490ac210bd9d",
   "metadata": {},
   "outputs": [],
   "source": []
  }
 ],
 "metadata": {
  "kernelspec": {
   "display_name": "Python [conda env:base] *",
   "language": "python",
   "name": "conda-base-py"
  },
  "language_info": {
   "codemirror_mode": {
    "name": "ipython",
    "version": 3
   },
   "file_extension": ".py",
   "mimetype": "text/x-python",
   "name": "python",
   "nbconvert_exporter": "python",
   "pygments_lexer": "ipython3",
   "version": "3.12.7"
  }
 },
 "nbformat": 4,
 "nbformat_minor": 5
}
