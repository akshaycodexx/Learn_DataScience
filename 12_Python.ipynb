{
 "cells": [
  {
   "cell_type": "markdown",
   "id": "24b1f1af-a53d-4764-83d6-ce20a5f0e5f7",
   "metadata": {},
   "source": [
    "# JSON Module"
   ]
  },
  {
   "cell_type": "code",
   "execution_count": 2,
   "id": "ae60e758-6bf8-4e4f-91a9-fca04fb47a44",
   "metadata": {},
   "outputs": [],
   "source": [
    "import json"
   ]
  },
  {
   "cell_type": "code",
   "execution_count": 4,
   "id": "15fedd62-dbff-4854-977c-4fca30036ed8",
   "metadata": {},
   "outputs": [],
   "source": [
    "obj ={\"name\":\"Alice\",\"company\":\"IBM\",\"Salary\":45000}"
   ]
  },
  {
   "cell_type": "code",
   "execution_count": 6,
   "id": "cab1a9b7-ca36-4c47-8922-6ea1e6ff6903",
   "metadata": {},
   "outputs": [
    {
     "data": {
      "text/plain": [
       "'{\"name\": \"Alice\", \"company\": \"IBM\", \"Salary\": 45000}'"
      ]
     },
     "execution_count": 6,
     "metadata": {},
     "output_type": "execute_result"
    }
   ],
   "source": [
    "json.dumps(obj)"
   ]
  },
  {
   "cell_type": "code",
   "execution_count": null,
   "id": "3cfba0a6-b43d-4c2b-b908-2592217ccd7d",
   "metadata": {},
   "outputs": [],
   "source": []
  },
  {
   "cell_type": "code",
   "execution_count": null,
   "id": "a0530bda-5885-4f8a-9173-ee3df3a86758",
   "metadata": {},
   "outputs": [],
   "source": []
  }
 ],
 "metadata": {
  "kernelspec": {
   "display_name": "Python [conda env:base] *",
   "language": "python",
   "name": "conda-base-py"
  },
  "language_info": {
   "codemirror_mode": {
    "name": "ipython",
    "version": 3
   },
   "file_extension": ".py",
   "mimetype": "text/x-python",
   "name": "python",
   "nbconvert_exporter": "python",
   "pygments_lexer": "ipython3",
   "version": "3.12.7"
  }
 },
 "nbformat": 4,
 "nbformat_minor": 5
}
