{
 "cells": [
  {
   "cell_type": "markdown",
   "id": "6d138a09-566f-49ef-861e-ed077e6b0103",
   "metadata": {},
   "source": [
    "## Loops In Python"
   ]
  },
  {
   "cell_type": "code",
   "execution_count": 2,
   "id": "d720cb8b-3863-4727-afa8-2a4c631cd2cc",
   "metadata": {},
   "outputs": [],
   "source": [
    "l={3,5,6,67}\n"
   ]
  },
  {
   "cell_type": "code",
   "execution_count": 4,
   "id": "3c0f2194-7b0f-4e41-941a-973d6393146d",
   "metadata": {},
   "outputs": [
    {
     "name": "stdout",
     "output_type": "stream",
     "text": [
      "3\n",
      "67\n",
      "5\n",
      "6\n"
     ]
    }
   ],
   "source": [
    "for item in l:\n",
    "    print(item)"
   ]
  },
  {
   "cell_type": "code",
   "execution_count": null,
   "id": "e5e48c3e-ac37-40a3-bae0-db21710a04c9",
   "metadata": {},
   "outputs": [],
   "source": [
    "for i in range(1,11):\n",
    "    print(i)"
   ]
  },
  {
   "cell_type": "code",
   "execution_count": null,
   "id": "bf30f529-65d3-47e5-9913-81956b7e454b",
   "metadata": {},
   "outputs": [],
   "source": [
    "student={\"Akshay\",\"Aksah\",\"Saheb\",\"Anurag\"}\n",
    "count = 0\n",
    "while len(student) != 0:\n",
    "    count += 1\n",
    "print(count)"
   ]
  },
  {
   "cell_type": "code",
   "execution_count": null,
   "id": "cf49e726-6c59-46aa-9c9d-0f9ba5a6f76f",
   "metadata": {},
   "outputs": [],
   "source": []
  },
  {
   "cell_type": "code",
   "execution_count": null,
   "id": "33a50620-81d6-49b9-b173-8913bdcc5bfa",
   "metadata": {},
   "outputs": [],
   "source": [
    "student = {\"Akshay\", \"Aksah\", \"Saheb\", \"Anurag\"}\n",
    "count = 0\n",
    "\n",
    "while len(student) != 0:\n",
    "    student.pop()\n",
    "    count += 1\n",
    "\n",
    "print(count)\n",
    "\n"
   ]
  },
  {
   "cell_type": "code",
   "execution_count": null,
   "id": "9060f702-7b59-4f1e-8157-429da055bf7d",
   "metadata": {},
   "outputs": [],
   "source": []
  },
  {
   "cell_type": "code",
   "execution_count": null,
   "id": "fc75aaa1-1956-4083-aa1c-288e974564c6",
   "metadata": {},
   "outputs": [],
   "source": []
  },
  {
   "cell_type": "code",
   "execution_count": null,
   "id": "0e0fbbad-4336-4e82-9ff5-f291020ff1de",
   "metadata": {},
   "outputs": [],
   "source": []
  },
  {
   "cell_type": "code",
   "execution_count": null,
   "id": "87f1e915-f76a-4d55-b2da-723deb254538",
   "metadata": {},
   "outputs": [],
   "source": []
  },
  {
   "cell_type": "code",
   "execution_count": null,
   "id": "8621bbcd-49dd-430f-b6b2-586290d606fa",
   "metadata": {},
   "outputs": [],
   "source": []
  }
 ],
 "metadata": {
  "kernelspec": {
   "display_name": "Python [conda env:base] *",
   "language": "python",
   "name": "conda-base-py"
  },
  "language_info": {
   "codemirror_mode": {
    "name": "ipython",
    "version": 3
   },
   "file_extension": ".py",
   "mimetype": "text/x-python",
   "name": "python",
   "nbconvert_exporter": "python",
   "pygments_lexer": "ipython3",
   "version": "3.12.7"
  }
 },
 "nbformat": 4,
 "nbformat_minor": 5
}
