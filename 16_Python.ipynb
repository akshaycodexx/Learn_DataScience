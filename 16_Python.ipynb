{
 "cells": [
  {
   "cell_type": "markdown",
   "id": "9ce079a3-1038-48c0-9f5e-183e0e8ca92b",
   "metadata": {},
   "source": [
    "## Lamda Function"
   ]
  },
  {
   "cell_type": "code",
   "execution_count": 6,
   "id": "40fdbfec-7a96-496e-a18c-953ce4a565bf",
   "metadata": {},
   "outputs": [],
   "source": [
    "cube = lambda x:x*x*x"
   ]
  },
  {
   "cell_type": "code",
   "execution_count": 8,
   "id": "477961b5-e161-4091-9acb-83ccc13d4ad6",
   "metadata": {},
   "outputs": [
    {
     "data": {
      "text/plain": [
       "27"
      ]
     },
     "execution_count": 8,
     "metadata": {},
     "output_type": "execute_result"
    }
   ],
   "source": [
    "cube(3)"
   ]
  },
  {
   "cell_type": "code",
   "execution_count": 12,
   "id": "b390379e-6bdc-48b2-9a99-dec7c711b027",
   "metadata": {},
   "outputs": [],
   "source": [
    "func1=lambda x:x*x"
   ]
  },
  {
   "cell_type": "code",
   "execution_count": 14,
   "id": "109c5bd1-445a-4bc1-b97e-4dac4c8e6ee6",
   "metadata": {},
   "outputs": [],
   "source": [
    "s= lambda a,b :a+b"
   ]
  },
  {
   "cell_type": "code",
   "execution_count": 16,
   "id": "0434c766-dd25-4bb4-b9f2-f86ca37706e9",
   "metadata": {},
   "outputs": [
    {
     "data": {
      "text/plain": [
       "10"
      ]
     },
     "execution_count": 16,
     "metadata": {},
     "output_type": "execute_result"
    }
   ],
   "source": [
    "s(4,6)"
   ]
  },
  {
   "cell_type": "code",
   "execution_count": null,
   "id": "624cc31c-8a5c-492a-bdf0-0f438b2d0ed3",
   "metadata": {},
   "outputs": [],
   "source": []
  }
 ],
 "metadata": {
  "kernelspec": {
   "display_name": "Python [conda env:base] *",
   "language": "python",
   "name": "conda-base-py"
  },
  "language_info": {
   "codemirror_mode": {
    "name": "ipython",
    "version": 3
   },
   "file_extension": ".py",
   "mimetype": "text/x-python",
   "name": "python",
   "nbconvert_exporter": "python",
   "pygments_lexer": "ipython3",
   "version": "3.12.7"
  }
 },
 "nbformat": 4,
 "nbformat_minor": 5
}
