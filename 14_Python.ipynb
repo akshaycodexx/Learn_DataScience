{
 "cells": [
  {
   "cell_type": "code",
   "execution_count": 5,
   "id": "c60598a5-803f-4a56-b13f-4480753d2c53",
   "metadata": {},
   "outputs": [
    {
     "name": "stdout",
     "output_type": "stream",
     "text": [
      "The Company is Hp\n"
     ]
    }
   ],
   "source": [
    "class Employee:\n",
    "    company=\"Hp\"\n",
    "    def PrintDetails(self):\n",
    "        print(f\"The Company is {self.company}\")\n",
    "\n",
    "e=Employee()\n",
    "e.PrintDetails()"
   ]
  },
  {
   "cell_type": "markdown",
   "id": "4b0d482c-c652-44e1-b584-e54b685cc0ee",
   "metadata": {},
   "source": [
    "## how To Make A Constractor"
   ]
  },
  {
   "cell_type": "code",
   "execution_count": 11,
   "id": "8f0218c5-9749-4fac-a21e-a91934caaf7a",
   "metadata": {},
   "outputs": [
    {
     "name": "stdout",
     "output_type": "stream",
     "text": [
      "The Company of Akshay is HP with salary 45000\n"
     ]
    }
   ],
   "source": [
    "class Company:\n",
    "    company = \"HP\"  # Class variable\n",
    "\n",
    "    # Constructor\n",
    "    def __init__(self, name, salary):\n",
    "        self.name = name\n",
    "        self.salary = salary\n",
    "\n",
    "    # Method\n",
    "    def printDetails(self):\n",
    "        print(f\"The Company of {self.name} is {self.company} with salary {self.salary}\")\n",
    "\n",
    "# Create an object\n",
    "obj = Company(\"Akshay\", \"45000\")\n",
    "obj.printDetails()\n"
   ]
  },
  {
   "cell_type": "code",
   "execution_count": null,
   "id": "a24b3f34-f0ab-468d-a41f-c92addd7d078",
   "metadata": {},
   "outputs": [],
   "source": []
  }
 ],
 "metadata": {
  "kernelspec": {
   "display_name": "Python [conda env:base] *",
   "language": "python",
   "name": "conda-base-py"
  },
  "language_info": {
   "codemirror_mode": {
    "name": "ipython",
    "version": 3
   },
   "file_extension": ".py",
   "mimetype": "text/x-python",
   "name": "python",
   "nbconvert_exporter": "python",
   "pygments_lexer": "ipython3",
   "version": "3.12.7"
  }
 },
 "nbformat": 4,
 "nbformat_minor": 5
}
