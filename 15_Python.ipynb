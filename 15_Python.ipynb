{
 "cells": [
  {
   "cell_type": "markdown",
   "id": "6147c96f-f1a5-44a9-8de7-517dcadecfd9",
   "metadata": {},
   "source": [
    "## LIST COMPREANSION\n"
   ]
  },
  {
   "cell_type": "code",
   "execution_count": 2,
   "id": "b6165601-cb96-4e29-b98f-3d255084d363",
   "metadata": {},
   "outputs": [],
   "source": [
    "table=[]"
   ]
  },
  {
   "cell_type": "code",
   "execution_count": 8,
   "id": "a10f8b52-edc8-41fa-9930-bd040aed78f2",
   "metadata": {},
   "outputs": [
    {
     "name": "stdout",
     "output_type": "stream",
     "text": [
      "2 * 1 =2\n",
      "2 * 2 =4\n",
      "2 * 3 =6\n",
      "2 * 4 =8\n",
      "2 * 5 =10\n",
      "2 * 6 =12\n",
      "2 * 7 =14\n",
      "2 * 8 =16\n",
      "2 * 9 =18\n",
      "2 * 10 =20\n"
     ]
    }
   ],
   "source": [
    "for i in range (1,11):\n",
    "    print(f\"2 * {i} ={2*i}\")\n",
    "    table.append(2*i)"
   ]
  },
  {
   "cell_type": "code",
   "execution_count": 10,
   "id": "1079f691-e2d0-442f-8a5d-460117b5c3af",
   "metadata": {},
   "outputs": [
    {
     "data": {
      "text/plain": [
       "[2, 4, 6, 8, 10, 12, 14, 16, 18, 20]"
      ]
     },
     "execution_count": 10,
     "metadata": {},
     "output_type": "execute_result"
    }
   ],
   "source": [
    "table"
   ]
  },
  {
   "cell_type": "markdown",
   "id": "bf1ee95e-60f8-4cd5-a508-f940e3a40ee5",
   "metadata": {},
   "source": [
    "## In ShortCut "
   ]
  },
  {
   "cell_type": "code",
   "execution_count": 13,
   "id": "da1e1cda-46cd-4350-beb5-5ed59429dbc0",
   "metadata": {},
   "outputs": [],
   "source": [
    "t=[2*i for i in range (1,11)]"
   ]
  },
  {
   "cell_type": "code",
   "execution_count": 15,
   "id": "c1f17806-e99c-4e31-a3c6-6aa92ce1856e",
   "metadata": {},
   "outputs": [
    {
     "data": {
      "text/plain": [
       "[2, 4, 6, 8, 10, 12, 14, 16, 18, 20]"
      ]
     },
     "execution_count": 15,
     "metadata": {},
     "output_type": "execute_result"
    }
   ],
   "source": [
    "t"
   ]
  },
  {
   "cell_type": "code",
   "execution_count": null,
   "id": "a25f87c0-b01b-451f-a16b-0f58b014a06a",
   "metadata": {},
   "outputs": [],
   "source": []
  }
 ],
 "metadata": {
  "kernelspec": {
   "display_name": "Python [conda env:base] *",
   "language": "python",
   "name": "conda-base-py"
  },
  "language_info": {
   "codemirror_mode": {
    "name": "ipython",
    "version": 3
   },
   "file_extension": ".py",
   "mimetype": "text/x-python",
   "name": "python",
   "nbconvert_exporter": "python",
   "pygments_lexer": "ipython3",
   "version": "3.12.7"
  }
 },
 "nbformat": 4,
 "nbformat_minor": 5
}
