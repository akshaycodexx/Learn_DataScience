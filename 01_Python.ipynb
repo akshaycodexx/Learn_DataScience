{
 "cells": [
  {
   "cell_type": "markdown",
   "id": "58b4e10d-a2d5-4234-a672-74ca4267fbf7",
   "metadata": {},
   "source": [
    "## Learn Basics Of Python\n"
   ]
  },
  {
   "cell_type": "code",
   "execution_count": 3,
   "id": "51760ac4-c7c1-4c5e-bd27-370502fdbf0e",
   "metadata": {},
   "outputs": [],
   "source": [
    "a=5"
   ]
  },
  {
   "cell_type": "code",
   "execution_count": 5,
   "id": "2f834652-24e1-4dae-a8ba-18e97d4ad51e",
   "metadata": {},
   "outputs": [],
   "source": [
    "b=6"
   ]
  },
  {
   "cell_type": "code",
   "execution_count": 7,
   "id": "15ee6e8a-9aa7-4832-9589-e5b26b22e2a0",
   "metadata": {},
   "outputs": [
    {
     "data": {
      "text/plain": [
       "11"
      ]
     },
     "execution_count": 7,
     "metadata": {},
     "output_type": "execute_result"
    }
   ],
   "source": [
    "a+b"
   ]
  },
  {
   "cell_type": "code",
   "execution_count": 11,
   "id": "230236f1-0c62-4683-81da-4e94ba54f71e",
   "metadata": {},
   "outputs": [],
   "source": [
    "name=\"Akshay\""
   ]
  },
  {
   "cell_type": "code",
   "execution_count": 21,
   "id": "4d4cfdeb-e83e-442d-8dc2-e5daa11f08e8",
   "metadata": {},
   "outputs": [
    {
     "name": "stdout",
     "output_type": "stream",
     "text": [
      "Akshay\n"
     ]
    }
   ],
   "source": [
    "print(name) ## this will print hellow world"
   ]
  },
  {
   "cell_type": "code",
   "execution_count": 19,
   "id": "479caa69-22cf-44b2-8141-0eaa861f5e34",
   "metadata": {},
   "outputs": [],
   "source": [
    "# This is a Comment "
   ]
  },
  {
   "cell_type": "code",
   "execution_count": 27,
   "id": "0c2c5de8-ce65-4522-88b7-e9d9a6922d95",
   "metadata": {},
   "outputs": [
    {
     "name": "stdout",
     "output_type": "stream",
     "text": [
      "<class 'str'>\n"
     ]
    }
   ],
   "source": [
    "print(type(name))"
   ]
  },
  {
   "cell_type": "code",
   "execution_count": null,
   "id": "e12def3f-a412-49ba-8cf2-0724c3ef6b48",
   "metadata": {},
   "outputs": [],
   "source": []
  }
 ],
 "metadata": {
  "kernelspec": {
   "display_name": "Python [conda env:base] *",
   "language": "python",
   "name": "conda-base-py"
  },
  "language_info": {
   "codemirror_mode": {
    "name": "ipython",
    "version": 3
   },
   "file_extension": ".py",
   "mimetype": "text/x-python",
   "name": "python",
   "nbconvert_exporter": "python",
   "pygments_lexer": "ipython3",
   "version": "3.12.7"
  }
 },
 "nbformat": 4,
 "nbformat_minor": 5
}
