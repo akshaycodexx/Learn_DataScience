{
 "cells": [
  {
   "cell_type": "markdown",
   "id": "6c273ac1-082d-43d3-89bb-0510ecd00fdd",
   "metadata": {},
   "source": [
    "## Taking Input from The User\n"
   ]
  },
  {
   "cell_type": "code",
   "execution_count": 2,
   "id": "7fe67ff4-0f1d-490d-8a6f-5cb5c14c4cc5",
   "metadata": {},
   "outputs": [
    {
     "name": "stdin",
     "output_type": "stream",
     "text": [
      "enter the value of a 45\n"
     ]
    }
   ],
   "source": [
    "a=input(\"enter the value of a\")"
   ]
  },
  {
   "cell_type": "code",
   "execution_count": 4,
   "id": "8063938e-4224-49b6-8e44-49436b9d9d33",
   "metadata": {},
   "outputs": [
    {
     "name": "stdin",
     "output_type": "stream",
     "text": [
      "Enter the Value of b 34\n"
     ]
    }
   ],
   "source": [
    "b=input(\"Enter the Value of b\")\n"
   ]
  },
  {
   "cell_type": "code",
   "execution_count": 6,
   "id": "329672d3-8133-4787-bee4-012295de4baa",
   "metadata": {},
   "outputs": [
    {
     "data": {
      "text/plain": [
       "'4534'"
      ]
     },
     "execution_count": 6,
     "metadata": {},
     "output_type": "execute_result"
    }
   ],
   "source": [
    "a+b\n"
   ]
  },
  {
   "cell_type": "code",
   "execution_count": 8,
   "id": "00c7875c-bfee-4c18-b6ae-1fea62668747",
   "metadata": {},
   "outputs": [
    {
     "data": {
      "text/plain": [
       "79"
      ]
     },
     "execution_count": 8,
     "metadata": {},
     "output_type": "execute_result"
    }
   ],
   "source": [
    "int (a) + int(b)"
   ]
  },
  {
   "cell_type": "code",
   "execution_count": null,
   "id": "4a198030-df3d-4a4d-b67b-acb37d6e533f",
   "metadata": {},
   "outputs": [],
   "source": [
    "c= input()"
   ]
  }
 ],
 "metadata": {
  "kernelspec": {
   "display_name": "Python [conda env:base] *",
   "language": "python",
   "name": "conda-base-py"
  },
  "language_info": {
   "codemirror_mode": {
    "name": "ipython",
    "version": 3
   },
   "file_extension": ".py",
   "mimetype": "text/x-python",
   "name": "python",
   "nbconvert_exporter": "python",
   "pygments_lexer": "ipython3",
   "version": "3.12.7"
  }
 },
 "nbformat": 4,
 "nbformat_minor": 5
}
