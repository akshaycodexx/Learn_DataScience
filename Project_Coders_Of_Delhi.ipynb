{
 "cells": [
  {
   "cell_type": "markdown",
   "id": "1dbb8206-d6d2-49cc-a2e6-0924a7e3f121",
   "metadata": {},
   "source": [
    "## Project Coders of Delhi"
   ]
  },
  {
   "cell_type": "code",
   "execution_count": 7,
   "id": "c9e9d9e5-a8d3-4524-a9d2-f2f4ae641aff",
   "metadata": {},
   "outputs": [],
   "source": [
    "import json"
   ]
  },
  {
   "cell_type": "code",
   "execution_count": 9,
   "id": "db2bdf8f-5ad8-48c3-b649-a30218deb47b",
   "metadata": {},
   "outputs": [],
   "source": [
    "# lets Write the function the loads the data\n",
    "def load_data(filename):\n",
    "    with open(filename,\"r\") as f:\n",
    "        data=json.load(f)\n",
    "    return data;"
   ]
  },
  {
   "cell_type": "code",
   "execution_count": 13,
   "id": "cccc1704-2744-4828-b0c2-be14c6e7f277",
   "metadata": {},
   "outputs": [],
   "source": [
    "data=load_data(\"data.json\")"
   ]
  },
  {
   "cell_type": "code",
   "execution_count": 15,
   "id": "690e710a-9dc4-4a84-9028-05b86699b950",
   "metadata": {},
   "outputs": [
    {
     "data": {
      "text/plain": [
       "{'users': [{'id': 1, 'name': 'Amit', 'friends': [2, 3], 'liked_pages': [101]},\n",
       "  {'id': 2, 'name': 'Priya', 'friends': [1, 4], 'liked_pages': [102]},\n",
       "  {'id': 3, 'name': 'Rahul', 'friends': [1], 'liked_pages': [101, 103]},\n",
       "  {'id': 4, 'name': 'Sara', 'friends': [2], 'liked_pages': [104]}],\n",
       " 'pages': [{'id': 101, 'name': 'Python Developers'},\n",
       "  {'id': 102, 'name': 'Data Science Enthusiasts'},\n",
       "  {'id': 103, 'name': 'AI & ML Community'},\n",
       "  {'id': 104, 'name': 'Web Dev Hub'}]}"
      ]
     },
     "execution_count": 15,
     "metadata": {},
     "output_type": "execute_result"
    }
   ],
   "source": [
    "data"
   ]
  },
  {
   "cell_type": "code",
   "execution_count": 27,
   "id": "08c93db7-039d-4c77-a351-77a01d6cbaff",
   "metadata": {},
   "outputs": [
    {
     "name": "stdout",
     "output_type": "stream",
     "text": [
      "Users And Their Connections\n",
      "\n",
      "ID: 1 Amit is friend with : [2, 3] and like pages are [101]\n",
      "ID: 2 Priya is friend with : [1, 4] and like pages are [102]\n",
      "ID: 3 Rahul is friend with : [1] and like pages are [101, 103]\n",
      "ID: 4 Sara is friend with : [2] and like pages are [104]\n",
      "Pages Information\n",
      "101 :Python Developers \n",
      "102 :Data Science Enthusiasts \n",
      "103 :AI & ML Community \n",
      "104 :Web Dev Hub \n"
     ]
    }
   ],
   "source": [
    "# write a Function to desplay their connection\n",
    "def desplay_users(data):\n",
    "    print(\"Users And Their Connections\\n\");\n",
    "    for user in data['users']:\n",
    "        print(f\"ID: {user['id']} {user['name']} is friend with : {user['friends']} and like pages are {user['liked_pages']}\")\n",
    "    print(\"Pages Information\")\n",
    "    for page in data['pages']:\n",
    "        print(f\"{page['id']} :{page['name']} \")\n",
    "\n",
    "desplay_users(data)\n",
    "        "
   ]
  },
  {
   "cell_type": "code",
   "execution_count": null,
   "id": "cd170b69-286d-4b3b-8121-958e1e3c00ab",
   "metadata": {},
   "outputs": [],
   "source": []
  }
 ],
 "metadata": {
  "kernelspec": {
   "display_name": "Python [conda env:base] *",
   "language": "python",
   "name": "conda-base-py"
  },
  "language_info": {
   "codemirror_mode": {
    "name": "ipython",
    "version": 3
   },
   "file_extension": ".py",
   "mimetype": "text/x-python",
   "name": "python",
   "nbconvert_exporter": "python",
   "pygments_lexer": "ipython3",
   "version": "3.12.7"
  }
 },
 "nbformat": 4,
 "nbformat_minor": 5
}
