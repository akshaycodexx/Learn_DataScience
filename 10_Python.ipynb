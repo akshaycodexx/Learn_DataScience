{
 "cells": [
  {
   "cell_type": "markdown",
   "id": "87878b8a-f923-4ba4-8b50-5fa7752a50f3",
   "metadata": {},
   "source": [
    "## Touple in Python"
   ]
  },
  {
   "cell_type": "code",
   "execution_count": 2,
   "id": "4611101c-ff31-47c2-a343-efc837d6fa37",
   "metadata": {},
   "outputs": [],
   "source": [
    "person=(1,2,3)"
   ]
  },
  {
   "cell_type": "code",
   "execution_count": 4,
   "id": "2df80a40-4511-4446-849f-69f89fbf5dc3",
   "metadata": {},
   "outputs": [
    {
     "data": {
      "text/plain": [
       "(1, 2, 3)"
      ]
     },
     "execution_count": 4,
     "metadata": {},
     "output_type": "execute_result"
    }
   ],
   "source": [
    "person"
   ]
  },
  {
   "cell_type": "code",
   "execution_count": 6,
   "id": "478a4d59-cb0f-491c-8715-16837dbbc7aa",
   "metadata": {},
   "outputs": [
    {
     "data": {
      "text/plain": [
       "3"
      ]
     },
     "execution_count": 6,
     "metadata": {},
     "output_type": "execute_result"
    }
   ],
   "source": [
    "len(person)"
   ]
  },
  {
   "cell_type": "markdown",
   "id": "56954397-3fe9-41ba-8892-9d60d3060855",
   "metadata": {},
   "source": [
    "## Touble when we use that we cant wanted to change anymore "
   ]
  },
  {
   "cell_type": "code",
   "execution_count": null,
   "id": "ae29297f-db7c-4583-be97-98b6bbc89c5e",
   "metadata": {},
   "outputs": [],
   "source": []
  }
 ],
 "metadata": {
  "kernelspec": {
   "display_name": "Python [conda env:base] *",
   "language": "python",
   "name": "conda-base-py"
  },
  "language_info": {
   "codemirror_mode": {
    "name": "ipython",
    "version": 3
   },
   "file_extension": ".py",
   "mimetype": "text/x-python",
   "name": "python",
   "nbconvert_exporter": "python",
   "pygments_lexer": "ipython3",
   "version": "3.12.7"
  }
 },
 "nbformat": 4,
 "nbformat_minor": 5
}
