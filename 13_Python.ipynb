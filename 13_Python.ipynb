{
 "cells": [
  {
   "cell_type": "markdown",
   "id": "518cab5e-112f-4603-b594-1a6b7203a971",
   "metadata": {},
   "source": [
    "## Json Module"
   ]
  },
  {
   "cell_type": "code",
   "execution_count": 8,
   "id": "dd83713a-42bd-49c2-aca1-71137924ee70",
   "metadata": {},
   "outputs": [
    {
     "data": {
      "text/plain": [
       "str"
      ]
     },
     "execution_count": 8,
     "metadata": {},
     "output_type": "execute_result"
    }
   ],
   "source": [
    "obj={\"name\":\"Akshay\",\"Company\":\"IBM\",\"Salary\":45000}\n",
    "s=json.dumps(obj)\n",
    "type(s)"
   ]
  },
  {
   "cell_type": "code",
   "execution_count": 10,
   "id": "1bfcc11f-a7b7-44e0-87f4-70d3132181f4",
   "metadata": {},
   "outputs": [
    {
     "name": "stdout",
     "output_type": "stream",
     "text": [
      "{\"name\": \"Akshay\", \"Company\": \"IBM\", \"Salary\": 45000}\n"
     ]
    }
   ],
   "source": [
    "print(s)"
   ]
  },
  {
   "cell_type": "code",
   "execution_count": 12,
   "id": "ac7a1944-147b-4ffe-9b2d-cd6065e3b573",
   "metadata": {},
   "outputs": [],
   "source": [
    "d=json.loads('{\"name\":\"Akshay\" , \"Company\":\"IBM\" , \"Salary\":45000}')"
   ]
  },
  {
   "cell_type": "code",
   "execution_count": 14,
   "id": "ba4ac1df-9f05-4a81-8b59-b2ca69eb4051",
   "metadata": {},
   "outputs": [
    {
     "data": {
      "text/plain": [
       "dict"
      ]
     },
     "execution_count": 14,
     "metadata": {},
     "output_type": "execute_result"
    }
   ],
   "source": [
    "type(d)"
   ]
  },
  {
   "cell_type": "code",
   "execution_count": 16,
   "id": "fe8ffd9a-bbc2-4c82-8f7b-5a30dcf457f5",
   "metadata": {},
   "outputs": [
    {
     "name": "stdout",
     "output_type": "stream",
     "text": [
      "{'name': 'Akshay', 'Company': 'IBM', 'Salary': 45000}\n"
     ]
    }
   ],
   "source": [
    "print(d)"
   ]
  },
  {
   "cell_type": "markdown",
   "id": "e2893b09-edef-4992-a278-a84ee54c7e0c",
   "metadata": {},
   "source": [
    "## Formatting JSON"
   ]
  },
  {
   "cell_type": "code",
   "execution_count": null,
   "id": "253b138b-3ea8-4d2f-96a9-69d77d44438e",
   "metadata": {},
   "outputs": [],
   "source": []
  }
 ],
 "metadata": {
  "kernelspec": {
   "display_name": "Python [conda env:base] *",
   "language": "python",
   "name": "conda-base-py"
  },
  "language_info": {
   "codemirror_mode": {
    "name": "ipython",
    "version": 3
   },
   "file_extension": ".py",
   "mimetype": "text/x-python",
   "name": "python",
   "nbconvert_exporter": "python",
   "pygments_lexer": "ipython3",
   "version": "3.12.7"
  }
 },
 "nbformat": 4,
 "nbformat_minor": 5
}
