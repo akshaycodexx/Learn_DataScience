{
 "cells": [
  {
   "cell_type": "markdown",
   "id": "3e3722a0-6018-4a5d-949b-ca23dda809e9",
   "metadata": {},
   "source": [
    "## String\n"
   ]
  },
  {
   "cell_type": "code",
   "execution_count": 5,
   "id": "eed7cf1b-d23c-4c93-9ff4-7fb3d339a6f1",
   "metadata": {},
   "outputs": [],
   "source": [
    "name=\"Akshay\""
   ]
  },
  {
   "cell_type": "code",
   "execution_count": 7,
   "id": "b07a5416-077f-4faa-a3ca-75799d2db632",
   "metadata": {},
   "outputs": [
    {
     "data": {
      "text/plain": [
       "'AKSHAY'"
      ]
     },
     "execution_count": 7,
     "metadata": {},
     "output_type": "execute_result"
    }
   ],
   "source": [
    "name.upper()"
   ]
  },
  {
   "cell_type": "code",
   "execution_count": 9,
   "id": "4c02978d-40a7-4e8e-bb38-b1c947eaa5e6",
   "metadata": {},
   "outputs": [
    {
     "data": {
      "text/plain": [
       "False"
      ]
     },
     "execution_count": 9,
     "metadata": {},
     "output_type": "execute_result"
    }
   ],
   "source": [
    "name.endswith(\"Ay\")"
   ]
  },
  {
   "cell_type": "code",
   "execution_count": 11,
   "id": "93e0333e-e30b-41c3-8b89-a19d668d5301",
   "metadata": {},
   "outputs": [
    {
     "data": {
      "text/plain": [
       "'akshay'"
      ]
     },
     "execution_count": 11,
     "metadata": {},
     "output_type": "execute_result"
    }
   ],
   "source": [
    "name.lower()"
   ]
  },
  {
   "cell_type": "code",
   "execution_count": 15,
   "id": "85978086-b195-49ee-b534-54cd00b098e4",
   "metadata": {},
   "outputs": [
    {
     "data": {
      "text/plain": [
       "1"
      ]
     },
     "execution_count": 15,
     "metadata": {},
     "output_type": "execute_result"
    }
   ],
   "source": [
    "name.count('a')"
   ]
  },
  {
   "cell_type": "code",
   "execution_count": 21,
   "id": "6eb5143c-5765-452e-9bfd-dfe386d89ffa",
   "metadata": {},
   "outputs": [],
   "source": [
    "name=\"Akshay Kumar\""
   ]
  },
  {
   "cell_type": "code",
   "execution_count": 23,
   "id": "18f0a537-ae43-400f-b6a1-395a82e41970",
   "metadata": {},
   "outputs": [
    {
     "data": {
      "text/plain": [
       "['Akshay', 'Kumar']"
      ]
     },
     "execution_count": 23,
     "metadata": {},
     "output_type": "execute_result"
    }
   ],
   "source": [
    "name.split(\" \")"
   ]
  },
  {
   "cell_type": "code",
   "execution_count": 25,
   "id": "1166c368-129a-4132-8043-28c8ec23c826",
   "metadata": {},
   "outputs": [
    {
     "data": {
      "text/plain": [
       "'Harry Kumar'"
      ]
     },
     "execution_count": 25,
     "metadata": {},
     "output_type": "execute_result"
    }
   ],
   "source": [
    "name.replace(\"Akshay\",\"Harry\")"
   ]
  },
  {
   "cell_type": "code",
   "execution_count": 27,
   "id": "b6d49a24-f950-46a7-965c-c62e6afdd185",
   "metadata": {},
   "outputs": [
    {
     "data": {
      "text/plain": [
       "'Aksha'"
      ]
     },
     "execution_count": 27,
     "metadata": {},
     "output_type": "execute_result"
    }
   ],
   "source": [
    "name[0:5]"
   ]
  },
  {
   "cell_type": "code",
   "execution_count": 29,
   "id": "a208408e-76ae-46ca-a932-e9bc014661cb",
   "metadata": {},
   "outputs": [],
   "source": [
    "a=10\n",
    "b=15"
   ]
  },
  {
   "cell_type": "code",
   "execution_count": 31,
   "id": "51b464b6-9bcf-4508-bc34-b9918fcbaae2",
   "metadata": {},
   "outputs": [
    {
     "data": {
      "text/plain": [
       "150"
      ]
     },
     "execution_count": 31,
     "metadata": {},
     "output_type": "execute_result"
    }
   ],
   "source": [
    "a*b"
   ]
  },
  {
   "cell_type": "code",
   "execution_count": 33,
   "id": "87a216f3-1fe3-41b9-9232-0a4cc6b8c032",
   "metadata": {},
   "outputs": [
    {
     "data": {
      "text/plain": [
       "0"
      ]
     },
     "execution_count": 33,
     "metadata": {},
     "output_type": "execute_result"
    }
   ],
   "source": [
    "a//b"
   ]
  },
  {
   "cell_type": "code",
   "execution_count": 35,
   "id": "e16d3847-1d4c-43c1-9206-76dc593abb5c",
   "metadata": {},
   "outputs": [
    {
     "data": {
      "text/plain": [
       "16"
      ]
     },
     "execution_count": 35,
     "metadata": {},
     "output_type": "execute_result"
    }
   ],
   "source": [
    "2**4"
   ]
  },
  {
   "cell_type": "code",
   "execution_count": 37,
   "id": "fcadd266-97b5-4a7f-82d0-5f36a0923a8e",
   "metadata": {},
   "outputs": [
    {
     "data": {
      "text/plain": [
       "1000000000000000"
      ]
     },
     "execution_count": 37,
     "metadata": {},
     "output_type": "execute_result"
    }
   ],
   "source": [
    "a**b"
   ]
  },
  {
   "cell_type": "code",
   "execution_count": 41,
   "id": "47753f55-f839-4752-b43d-27b8db91f0c2",
   "metadata": {},
   "outputs": [],
   "source": [
    "c=23"
   ]
  },
  {
   "cell_type": "code",
   "execution_count": 43,
   "id": "49475166-c1f9-4160-be8b-72aa4e3fe4e2",
   "metadata": {},
   "outputs": [
    {
     "data": {
      "text/plain": [
       "False"
      ]
     },
     "execution_count": 43,
     "metadata": {},
     "output_type": "execute_result"
    }
   ],
   "source": [
    "c<21"
   ]
  },
  {
   "cell_type": "code",
   "execution_count": 45,
   "id": "227b75ba-8720-4b46-a4d2-5455e2e6233b",
   "metadata": {},
   "outputs": [
    {
     "data": {
      "text/plain": [
       "True"
      ]
     },
     "execution_count": 45,
     "metadata": {},
     "output_type": "execute_result"
    }
   ],
   "source": [
    "c>21"
   ]
  },
  {
   "cell_type": "code",
   "execution_count": null,
   "id": "42856b0f-96f8-4ba1-842e-7acf72794973",
   "metadata": {},
   "outputs": [],
   "source": []
  }
 ],
 "metadata": {
  "kernelspec": {
   "display_name": "Python [conda env:base] *",
   "language": "python",
   "name": "conda-base-py"
  },
  "language_info": {
   "codemirror_mode": {
    "name": "ipython",
    "version": 3
   },
   "file_extension": ".py",
   "mimetype": "text/x-python",
   "name": "python",
   "nbconvert_exporter": "python",
   "pygments_lexer": "ipython3",
   "version": "3.12.7"
  }
 },
 "nbformat": 4,
 "nbformat_minor": 5
}
